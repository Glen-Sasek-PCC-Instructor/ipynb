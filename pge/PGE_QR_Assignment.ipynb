{
  "cells": [
    {
      "cell_type": "markdown",
      "metadata": {
        "id": "Dk_gljtDwb22"
      },
      "source": [
        "# **PCC PGE Dataset**\n",
        "\n",
        "This dataset is from the PCC and PGE and displays all of the PCC campuses and their Energy Consumption and costs.\n"
      ]
    },
    {
      "cell_type": "code",
      "execution_count": 3,
      "metadata": {
        "id": "jSFMUHkOv2Sk"
      },
      "outputs": [],
      "source": [
        "# Question we are trying to answer.\n",
        "import matplotlib.pyplot as plt\n",
        "import pandas as pd\n",
        "import seaborn as sns"
      ]
    },
    {
      "cell_type": "markdown",
      "metadata": {
        "id": "wSFoj8NURtLJ"
      },
      "source": [
        "Download the [PGE data.csv](https://drive.google.com/file/d/1krDHVBRlCTL5QR0Kg5VXhQduHVewu44Y/view?usp=sharing) file onto your computer and drag into this Notebook."
      ]
    },
    {
      "cell_type": "code",
      "execution_count": 4,
      "metadata": {
        "id": "9H3YMh7rwOuT"
      },
      "outputs": [],
      "source": [
        "# Create a dataframe from our csv file\n",
        "# Question we are trying to answer\n",
        "df = pd.read_csv(\"PGE Data.csv\")"
      ]
    },
    {
      "cell_type": "code",
      "execution_count": 5,
      "metadata": {
        "colab": {
          "base_uri": "https://localhost:8080/"
        },
        "id": "ABoG7pgNy5_W",
        "outputId": "daee9f4b-aa54-4b54-cac4-829887b9162d"
      },
      "outputs": [
        {
          "data": {
            "text/plain": [
              "Index(['Campus', 'PCC Building ID', 'Annual Use', 'Annual Charge'], dtype='object')"
            ]
          },
          "execution_count": 5,
          "metadata": {},
          "output_type": "execute_result"
        }
      ],
      "source": [
        "# Display the column names\n",
        "df.columns"
      ]
    },
    {
      "cell_type": "code",
      "execution_count": 6,
      "metadata": {
        "colab": {
          "base_uri": "https://localhost:8080/",
          "height": 206
        },
        "id": "C8R2EakVGi3z",
        "outputId": "1013719b-d179-4141-a7b0-912540f2700f"
      },
      "outputs": [
        {
          "data": {
            "text/html": [
              "<div>\n",
              "<style scoped>\n",
              "    .dataframe tbody tr th:only-of-type {\n",
              "        vertical-align: middle;\n",
              "    }\n",
              "\n",
              "    .dataframe tbody tr th {\n",
              "        vertical-align: top;\n",
              "    }\n",
              "\n",
              "    .dataframe thead th {\n",
              "        text-align: right;\n",
              "    }\n",
              "</style>\n",
              "<table border=\"1\" class=\"dataframe\">\n",
              "  <thead>\n",
              "    <tr style=\"text-align: right;\">\n",
              "      <th></th>\n",
              "      <th>Campus</th>\n",
              "      <th>PCC Building ID</th>\n",
              "      <th>Annual Use</th>\n",
              "      <th>Annual Charge</th>\n",
              "    </tr>\n",
              "  </thead>\n",
              "  <tbody>\n",
              "    <tr>\n",
              "      <th>0</th>\n",
              "      <td>Sylvania</td>\n",
              "      <td>1110 - SS - SOCIAL SCIENCE</td>\n",
              "      <td>116560</td>\n",
              "      <td>12310</td>\n",
              "    </tr>\n",
              "    <tr>\n",
              "      <th>1</th>\n",
              "      <td>SE campus</td>\n",
              "      <td>4040 - SCOM - STUDENT COMMONS</td>\n",
              "      <td>8169</td>\n",
              "      <td>1295</td>\n",
              "    </tr>\n",
              "    <tr>\n",
              "      <th>2</th>\n",
              "      <td>SE campus</td>\n",
              "      <td>4010 - MSH - MT. SCOTT HALL</td>\n",
              "      <td>938100</td>\n",
              "      <td>91987</td>\n",
              "    </tr>\n",
              "    <tr>\n",
              "      <th>3</th>\n",
              "      <td>Sylvania</td>\n",
              "      <td>1120 - ST - SCIENCE TECHNOLOGY</td>\n",
              "      <td>381120</td>\n",
              "      <td>41188</td>\n",
              "    </tr>\n",
              "    <tr>\n",
              "      <th>4</th>\n",
              "      <td>Newberg</td>\n",
              "      <td>5400 - NB - NEWBERG BUILDING</td>\n",
              "      <td>141360</td>\n",
              "      <td>17434</td>\n",
              "    </tr>\n",
              "  </tbody>\n",
              "</table>\n",
              "</div>"
            ],
            "text/plain": [
              "      Campus                 PCC Building ID  Annual Use  Annual Charge\n",
              "0   Sylvania     1110 - SS - SOCIAL SCIENCE       116560          12310\n",
              "1  SE campus   4040 - SCOM - STUDENT COMMONS        8169           1295\n",
              "2  SE campus     4010 - MSH - MT. SCOTT HALL      938100          91987\n",
              "3   Sylvania  1120 - ST - SCIENCE TECHNOLOGY      381120          41188\n",
              "4    Newberg    5400 - NB - NEWBERG BUILDING      141360          17434"
            ]
          },
          "execution_count": 6,
          "metadata": {},
          "output_type": "execute_result"
        }
      ],
      "source": [
        "df.head()"
      ]
    },
    {
      "cell_type": "markdown",
      "metadata": {
        "id": "DLgd2g74HSwH"
      },
      "source": [
        "#Group by Campus"
      ]
    },
    {
      "cell_type": "code",
      "execution_count": 8,
      "metadata": {
        "id": "1NirS3FwGnqg"
      },
      "outputs": [
        {
          "data": {
            "text/html": [
              "<div>\n",
              "<style scoped>\n",
              "    .dataframe tbody tr th:only-of-type {\n",
              "        vertical-align: middle;\n",
              "    }\n",
              "\n",
              "    .dataframe tbody tr th {\n",
              "        vertical-align: top;\n",
              "    }\n",
              "\n",
              "    .dataframe thead th {\n",
              "        text-align: right;\n",
              "    }\n",
              "</style>\n",
              "<table border=\"1\" class=\"dataframe\">\n",
              "  <thead>\n",
              "    <tr style=\"text-align: right;\">\n",
              "      <th></th>\n",
              "      <th>Annual Use</th>\n",
              "    </tr>\n",
              "    <tr>\n",
              "      <th>Campus</th>\n",
              "      <th></th>\n",
              "    </tr>\n",
              "  </thead>\n",
              "  <tbody>\n",
              "    <tr>\n",
              "      <th>CDSB</th>\n",
              "      <td>52095</td>\n",
              "    </tr>\n",
              "    <tr>\n",
              "      <th>CLIMB</th>\n",
              "      <td>213480</td>\n",
              "    </tr>\n",
              "    <tr>\n",
              "      <th>Downtown</th>\n",
              "      <td>311500</td>\n",
              "    </tr>\n",
              "    <tr>\n",
              "      <th>Newberg</th>\n",
              "      <td>141360</td>\n",
              "    </tr>\n",
              "    <tr>\n",
              "      <th>Rock Creek</th>\n",
              "      <td>4181172</td>\n",
              "    </tr>\n",
              "    <tr>\n",
              "      <th>SE campus</th>\n",
              "      <td>2055182</td>\n",
              "    </tr>\n",
              "    <tr>\n",
              "      <th>Swan Island</th>\n",
              "      <td>216000</td>\n",
              "    </tr>\n",
              "    <tr>\n",
              "      <th>Sylvania</th>\n",
              "      <td>8793346</td>\n",
              "    </tr>\n",
              "    <tr>\n",
              "      <th>Willow Creek</th>\n",
              "      <td>661200</td>\n",
              "    </tr>\n",
              "  </tbody>\n",
              "</table>\n",
              "</div>"
            ],
            "text/plain": [
              "              Annual Use\n",
              "Campus                  \n",
              "CDSB               52095\n",
              "CLIMB             213480\n",
              "Downtown          311500\n",
              "Newberg           141360\n",
              "Rock Creek       4181172\n",
              "SE campus        2055182\n",
              "Swan Island       216000\n",
              "Sylvania         8793346\n",
              "Willow Creek      661200"
            ]
          },
          "execution_count": 8,
          "metadata": {},
          "output_type": "execute_result"
        }
      ],
      "source": [
        "df.groupby('Campus')[['Annual Use']].sum()"
      ]
    },
    {
      "cell_type": "markdown",
      "metadata": {
        "id": "646icaKXyxL3"
      },
      "source": [
        "# Bar Chart"
      ]
    },
    {
      "cell_type": "code",
      "execution_count": null,
      "metadata": {
        "id": "h8JYoy2R5NmX"
      },
      "outputs": [],
      "source": [
        "#Use this code if you want to create a bar chart\n",
        "#Fill in the approriate columns and plot title and labels.\n",
        "# Create a new dataframe, and group all of the Breed groups together\n",
        "grouped_data = df.groupby(['']).sum()\n",
        "#print the data\n",
        "print(grouped_data)\n",
        "\n",
        "# The next statement narrows down the dataframe to just the column you want\n",
        "grouped_data = grouped_data['']\n",
        "grouped_data.plot.bar(tick_label=str)\n",
        "# Print title and axis labels\n",
        "plt.xlabel(\" \")\n",
        "plt.ylabel(\" \")\n",
        "plt.title(\"  \")\n",
        "plt.show()"
      ]
    },
    {
      "cell_type": "markdown",
      "metadata": {
        "id": "VQ4hTq-xSkrP"
      },
      "source": [
        "# Donut or Pie Chart"
      ]
    },
    {
      "cell_type": "code",
      "execution_count": null,
      "metadata": {
        "id": "3ptDcV-2SkP5"
      },
      "outputs": [],
      "source": [
        "#Use this code if you want to create a Donut or pie chart\n",
        "#Fill in the approriate columns and plot title and labels.\n",
        "# Create a new dataframe, and group things together\n",
        "grouped_data = df.groupby(['']).sum()\n",
        "\n",
        "# The next statement narrows down the dataframe to just the column you want\n",
        "grouped_data = grouped_data['']\n",
        "\n",
        "grouped_data.plot.pie(figsize=(14, 7), autopct='%1.1f%%', subplots=True)\n",
        "\n",
        "# The next 3 statements add a white circle to draw a donut chart\n",
        "my_circle=plt.Circle( (0,0), 0.5, color='white')\n",
        "p=plt.gcf()\n",
        "p.gca().add_artist(my_circle)\n",
        "\n",
        "# Print title and axis labels\n",
        "plt.xlabel(\" \")\n",
        "plt.ylabel(\" \")\n",
        "plt.title(\" \")"
      ]
    },
    {
      "cell_type": "markdown",
      "metadata": {
        "id": "LHCEr7K0TVP2"
      },
      "source": [
        "# Bar Chart with Percentages"
      ]
    },
    {
      "cell_type": "markdown",
      "metadata": {
        "id": "w-R_5ObNS0US"
      },
      "source": [
        "# Scatter Plot"
      ]
    },
    {
      "cell_type": "code",
      "execution_count": null,
      "metadata": {
        "id": "u5y4R7h4S6Cr"
      },
      "outputs": [],
      "source": [
        "# Create the scatter plot, specify two column names for x and y axis\n",
        "# Both columns are quantitative (numbers).\n",
        "df.plot.scatter(x=\"\", y=\"\", figsize=(10,8))\n",
        "\n",
        "# Plot lines at the weights that divide dogs into small (< 12 year),\n",
        "# medium (13 - 15 years), and large (> 15 years) categories.\n",
        "# plt.axvline() plots a vertical line, plt.axhline() plots a horizontal line\n",
        "plt.axvline(x=20, color=\"r\", label=\"Small - Medium\")\n",
        "plt.axvline(x=30, color=\"g\", label=\"Medum - Large\")\n",
        "\n",
        "# Add labels to the chart\n",
        "plt.title(\"Your title goes here\")\n",
        "plt.xlabel(\"xlabel\")\n",
        "plt.ylabel(\"ylabel\")"
      ]
    }
  ],
  "metadata": {
    "colab": {
      "provenance": []
    },
    "kernelspec": {
      "display_name": "Python 3",
      "name": "python3"
    },
    "language_info": {
      "codemirror_mode": {
        "name": "ipython",
        "version": 3
      },
      "file_extension": ".py",
      "mimetype": "text/x-python",
      "name": "python",
      "nbconvert_exporter": "python",
      "pygments_lexer": "ipython3",
      "version": "3.12.1"
    }
  },
  "nbformat": 4,
  "nbformat_minor": 0
}
