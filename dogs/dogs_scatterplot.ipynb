{
  "nbformat": 4,
  "nbformat_minor": 0,
  "metadata": {
    "colab": {
      "provenance": [],
      "toc_visible": true
    },
    "kernelspec": {
      "name": "python3",
      "display_name": "Python 3"
    }
  },
  "cells": [
    {
      "cell_type": "markdown",
      "metadata": {
        "id": "YgD4fMhrrgpf"
      },
      "source": [
        "# **Dogs Dataset - MAKE A COPY BEFORE YOU START!!**"
      ]
    },
    {
      "cell_type": "markdown",
      "metadata": {
        "id": "-JFAxNBcTDFz"
      },
      "source": [
        "**IMPORTANT!!** You must run each code block from top to bottom. First, run the import block, then the \"Create a dataframe\" block, then the \"df.columns\" block, etc. The code will not execute until you run the block by clicking on the play button. To see the play button, hover over the [ ] in each block."
      ]
    },
    {
      "cell_type": "code",
      "metadata": {
        "id": "nmm2KZU8h_Nc"
      },
      "source": [
        "import matplotlib.pyplot as plt\n",
        "import pandas as pd"
      ],
      "execution_count": null,
      "outputs": []
    },
    {
      "cell_type": "markdown",
      "metadata": {
        "id": "xv4Hv6gNrqLL"
      },
      "source": [
        "Download the [dogs.csv](https://drive.google.com/file/d/1JB7i-u7q3YpuxihimQG5GiGTKac-_MLj/view?usp=sharing) file onto your computer and drag into this Notebook."
      ]
    },
    {
      "cell_type": "code",
      "metadata": {
        "id": "xILavgm8iFG5"
      },
      "source": [
        "# Create a dataframe from our csv file\n",
        "df = pd.read_csv(\"/content/dogs.csv\")"
      ],
      "execution_count": null,
      "outputs": []
    },
    {
      "cell_type": "code",
      "metadata": {
        "id": "PEiLxC4nihRm"
      },
      "source": [
        "df.columns"
      ],
      "execution_count": null,
      "outputs": []
    },
    {
      "cell_type": "markdown",
      "metadata": {
        "id": "lU21eZJ86CrI"
      },
      "source": [
        "Run the code below to create the scatter plots displaying the relationship between two columns of data. The two columns will contain continuous data, or one will contain categorical data and the other continuous.\n",
        "\n",
        "With your partner, choose 2 columns to discover interesting information. Use mathematical terms (percents, counts, averages, ranges, etc.) and correct use of units of measurement (percents, counts, money, prediction scores, etc.) Remember to update the title and axis labels. Answer the questions below (double click on this box to edit):\n",
        "\n",
        "1. Partner Names:\n",
        "\n",
        "2. What is the question you are trying to answer with the two column chart?\n",
        "\n",
        "3. Were the plot results as you expected, or unexpected?\n",
        "\n",
        "4. What is one piece of information someone could learn from your plot?\n",
        "\n",
        "5. What, if any, assumptions are you making when reading the plot?\n",
        "\n",
        "\n",
        "Click on the share link at the top right corner of this Notebook and change so 'anyone with the link can view'. Copy the link and post as a comment on the lesson slides."
      ]
    },
    {
      "cell_type": "markdown",
      "metadata": {
        "id": "8iOihKkOiOCd"
      },
      "source": [
        "# Scatter Plot"
      ]
    },
    {
      "cell_type": "code",
      "metadata": {
        "id": "XxIq9c8rl58Q"
      },
      "source": [
        "\n",
        "# Create the scatter plot, specify two column names for x and y axis\n",
        "# Both columns are quantitative (numbers).\n",
        "df.plot.scatter(x=\"Max Weight\", y=\"Max Life Span\", figsize=(10,8))\n",
        "\n",
        "# Add labels to the chart\n",
        "plt.title(\"Max Weight vs Max Life Span\")\n",
        "plt.xlabel(\"Max Weight (lbs)\")\n",
        "plt.ylabel(\"Max Life Span (years)\")\n"
      ],
      "execution_count": null,
      "outputs": []
    },
    {
      "cell_type": "markdown",
      "metadata": {
        "id": "paiiqK7W3deQ"
      },
      "source": [
        "# Scatter Plot Range Chart"
      ]
    },
    {
      "cell_type": "markdown",
      "metadata": {
        "id": "yc8DHjsN3iWC"
      },
      "source": []
    },
    {
      "cell_type": "code",
      "metadata": {
        "id": "IaW_90Hu3xTR"
      },
      "source": [
        "# Create the range chart using the scatter plot function,\n",
        "# specify two column names for x and y axis.\n",
        "# The y column will be categorical.\n",
        "df.plot.scatter(x=\"Max Weight\", y=\"Breed Group\", figsize=(14,8))\n",
        "\n",
        "# Plot lines at the weights that divide dogs into small (< 25 lbs),\n",
        "# medium (25 - 55 lbs), and large (> 55 lbs) categories.\n",
        "# plt.axvline() plots a vertical line, plt.axhline() plots a horizontal line\n",
        "plt.axvline(x=25, color=\"r\", label=\"Small - Medium\")\n",
        "plt.axvline(x=55, color=\"g\", label=\"Medum - Large\")\n",
        "\n",
        "\n",
        "plt.title(\"Max Weight per Breed Group\")\n",
        "plt.xlabel(\"Max Weight (lbs)\")\n",
        "plt.ylabel(\"Breed Group\")\n",
        "plt.legend() # function to list the labels on the graph"
      ],
      "execution_count": null,
      "outputs": []
    }
  ]
}